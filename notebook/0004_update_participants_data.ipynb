{
 "cells": [
  {
   "cell_type": "code",
   "execution_count": 2,
   "metadata": {},
   "outputs": [],
   "source": [
    "import json"
   ]
  },
  {
   "cell_type": "code",
   "execution_count": 33,
   "metadata": {},
   "outputs": [
    {
     "data": {
      "text/plain": [
       "{'A': {'scores': [0.8, 0.77, 0.61, 0.3, 0.64]},\n",
       " 'B': {'scores': [0.5, 0.66, 0.82, 0.7]},\n",
       " 'C': {'scores': [0.7, 0.76, 0.52]}}"
      ]
     },
     "execution_count": 33,
     "metadata": {},
     "output_type": "execute_result"
    }
   ],
   "source": [
    "filename = './../data/participant.json'\n",
    "# load\n",
    "fp = open(filename, 'r')\n",
    "j = json.load(fp)  # str読み込み\n",
    "j = json.loads(j)  # str ---> dict\n",
    "j"
   ]
  },
  {
   "cell_type": "markdown",
   "metadata": {},
   "source": [
    "<br>\n",
    "\n",
    "update sample"
   ]
  },
  {
   "cell_type": "code",
   "execution_count": 34,
   "metadata": {},
   "outputs": [],
   "source": [
    "name = 'C'\n",
    "new_score = 0.555"
   ]
  },
  {
   "cell_type": "code",
   "execution_count": 35,
   "metadata": {},
   "outputs": [
    {
     "name": "stdout",
     "output_type": "stream",
     "text": [
      "{'A': {'scores': [0.8, 0.77, 0.61, 0.3, 0.64]}, 'B': {'scores': [0.5, 0.66, 0.82, 0.7]}, 'C': {'scores': [0.7, 0.76, 0.52]}}\n",
      "{'A': {'scores': [0.8, 0.77, 0.61, 0.3, 0.64]}, 'B': {'scores': [0.5, 0.66, 0.82, 0.7]}, 'C': {'scores': [0.7, 0.76, 0.52, 0.555]}}\n"
     ]
    }
   ],
   "source": [
    "print(j)\n",
    "j[name]['scores'].append(new_score)\n",
    "print(j)"
   ]
  }
 ],
 "metadata": {
  "kernelspec": {
   "display_name": "Python 3",
   "language": "python",
   "name": "python3"
  },
  "language_info": {
   "codemirror_mode": {
    "name": "ipython",
    "version": 3
   },
   "file_extension": ".py",
   "mimetype": "text/x-python",
   "name": "python",
   "nbconvert_exporter": "python",
   "pygments_lexer": "ipython3",
   "version": "3.6.10"
  }
 },
 "nbformat": 4,
 "nbformat_minor": 4
}
