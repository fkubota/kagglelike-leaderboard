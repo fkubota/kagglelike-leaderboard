{
 "cells": [
  {
   "cell_type": "code",
   "execution_count": null,
   "metadata": {},
   "outputs": [],
   "source": []
  },
  {
   "cell_type": "code",
   "execution_count": 1,
   "metadata": {},
   "outputs": [],
   "source": [
    "import json"
   ]
  },
  {
   "cell_type": "code",
   "execution_count": 2,
   "metadata": {},
   "outputs": [],
   "source": [
    "# filename = '../data/participant.json'\n",
    "filename = 'test.json'"
   ]
  },
  {
   "cell_type": "code",
   "execution_count": 3,
   "metadata": {},
   "outputs": [],
   "source": [
    "dict_ = {'A': {'scores':[0.8, 0.77, 0.61, 0.3, 0.64]},\n",
    "         'B': {'scores':[0.5, 0.66, 0.82, 0.7]},\n",
    "         'C': {'scores':[0.7, 0.76, 0.52]}}"
   ]
  },
  {
   "cell_type": "code",
   "execution_count": 4,
   "metadata": {},
   "outputs": [
    {
     "name": "stdout",
     "output_type": "stream",
     "text": [
      "{\"A\": {\"scores\": [0.8, 0.77, 0.61, 0.3, 0.64]}, \"B\": {\"scores\": [0.5, 0.66, 0.82, 0.7]}, \"C\": {\"scores\": [0.7, 0.76, 0.52]}}\n"
     ]
    }
   ],
   "source": [
    "# dict-->json(text)\n",
    "text = json.dumps(dict_)\n",
    "\n",
    "# save\n",
    "with open(filename, 'w') as outfile:\n",
    "    json.dump(text, outfile)\n",
    "    \n",
    "# fw = open(filename,'w')\n",
    "# json.dump(text, fw)\n",
    "print(text)"
   ]
  },
  {
   "cell_type": "code",
   "execution_count": 5,
   "metadata": {},
   "outputs": [
    {
     "data": {
      "text/plain": [
       "'{\"A\": {\"scores\": [0.8, 0.77, 0.61, 0.3, 0.64]}, \"B\": {\"scores\": [0.5, 0.66, 0.82, 0.7]}, \"C\": {\"scores\": [0.7, 0.76, 0.52]}}'"
      ]
     },
     "execution_count": 5,
     "metadata": {},
     "output_type": "execute_result"
    }
   ],
   "source": [
    "try:\n",
    "    # ローカルJSONファイルの読み込み\n",
    "    with open(filename, 'r') as f:\n",
    "        j = json.load(f)\n",
    "except json.JSONDecodeError as e:\n",
    "    print('JSONDecodeError: ', e)\n",
    "j"
   ]
  },
  {
   "cell_type": "code",
   "execution_count": 6,
   "metadata": {},
   "outputs": [],
   "source": [
    "# load\n",
    "# fp = open(filename, 'r')\n",
    "# print(fp)\n",
    "# j = json.load(fp)\n",
    "# j"
   ]
  },
  {
   "cell_type": "code",
   "execution_count": null,
   "metadata": {},
   "outputs": [],
   "source": []
  }
 ],
 "metadata": {
  "kernelspec": {
   "display_name": "Python 3",
   "language": "python",
   "name": "python3"
  },
  "language_info": {
   "codemirror_mode": {
    "name": "ipython",
    "version": 3
   },
   "file_extension": ".py",
   "mimetype": "text/x-python",
   "name": "python",
   "nbconvert_exporter": "python",
   "pygments_lexer": "ipython3",
   "version": "3.6.10"
  }
 },
 "nbformat": 4,
 "nbformat_minor": 4
}
