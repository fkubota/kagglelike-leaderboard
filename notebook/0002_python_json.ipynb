{
 "cells": [
  {
   "cell_type": "code",
   "execution_count": 1,
   "metadata": {},
   "outputs": [],
   "source": [
    "import json"
   ]
  },
  {
   "cell_type": "code",
   "execution_count": 2,
   "metadata": {},
   "outputs": [],
   "source": [
    "filename = '../data/participant.json'"
   ]
  },
  {
   "cell_type": "code",
   "execution_count": 3,
   "metadata": {},
   "outputs": [],
   "source": [
    "dict_ = {'A': {'scores':[0.8, 0.77, 0.61, 0.3, 0.64]},\n",
    "         'B': {'scores':[0.5, 0.66, 0.82, 0.7]},\n",
    "         'C': {'scores':[0.7, 0.76, 0.52]}}"
   ]
  },
  {
   "cell_type": "code",
   "execution_count": 6,
   "metadata": {},
   "outputs": [],
   "source": [
    "# dict-->json(text)\n",
    "text = json.dumps(dict_)\n",
    "\n",
    "# save\n",
    "fw = open(filename,'w')\n",
    "json.dump(text, fw)"
   ]
  },
  {
   "cell_type": "code",
   "execution_count": 9,
   "metadata": {},
   "outputs": [
    {
     "data": {
      "text/plain": [
       "'{\"A\": {\"scores\": [0.8, 0.77, 0.61, 0.3, 0.64]}, \"B\": {\"scores\": [0.5, 0.66, 0.82, 0.7]}, \"C\": {\"scores\": [0.7, 0.76, 0.52]}}'"
      ]
     },
     "execution_count": 9,
     "metadata": {},
     "output_type": "execute_result"
    }
   ],
   "source": [
    "# load\n",
    "fp = open(filename, 'r')\n",
    "j = json.load(fp)\n",
    "j"
   ]
  }
 ],
 "metadata": {
  "kernelspec": {
   "display_name": "Python 3",
   "language": "python",
   "name": "python3"
  },
  "language_info": {
   "codemirror_mode": {
    "name": "ipython",
    "version": 3
   },
   "file_extension": ".py",
   "mimetype": "text/x-python",
   "name": "python",
   "nbconvert_exporter": "python",
   "pygments_lexer": "ipython3",
   "version": "3.6.10"
  }
 },
 "nbformat": 4,
 "nbformat_minor": 4
}
